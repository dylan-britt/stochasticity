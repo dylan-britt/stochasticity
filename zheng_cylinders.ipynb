{
 "cells": [
  {
   "cell_type": "code",
   "execution_count": 2,
   "metadata": {},
   "outputs": [],
   "source": [
    "import numpy as np\n",
    "import sys\n",
    "import time\n",
    "import halotools\n",
    "import matplotlib.pyplot as plt\n",
    "\n",
    "from halotools.empirical_models import PrebuiltHodModelFactory\n",
    "from halotools.sim_manager import CachedHaloCatalog\n",
    "\n",
    "model = PrebuiltHodModelFactory('zheng07') # Zheng HOD\n",
    "\n",
    "# set all Zheng parameters to fiducial values from Fermilab HOD paper\n",
    "model.param_dict['logMmin'] = 12.36\n",
    "model.param_dict['logM1'] = 13.69\n",
    "model.param_dict['sigma_logM'] = 0.32\n",
    "model.param_dict['alpha'] = 1.28\n",
    "\n",
    "bolshoi_z0 = CachedHaloCatalog() # bolshoi z=0 rockstar halos are default catalog\n",
    "halos = bolshoi_z0.halo_table # table of bolshoi halos and their properties\n",
    "particles = bolshoi_z0.ptcl_table # table of ~10^6 bolshoi particles and their properties"
   ]
  },
  {
   "cell_type": "code",
   "execution_count": 2,
   "metadata": {},
   "outputs": [
    {
     "name": "stdout",
     "output_type": "stream",
     "text": [
      "Bolshoi halo properties: \n",
      " ['halo_vmax_firstacc', 'halo_dmvir_dt_tdyn', 'halo_macc', 'halo_scale_factor', 'halo_vmax_mpeak', 'halo_m_pe_behroozi', 'halo_xoff', 'halo_spin', 'halo_scale_factor_firstacc', 'halo_c_to_a', 'halo_mvir_firstacc', 'halo_scale_factor_last_mm', 'halo_scale_factor_mpeak', 'halo_pid', 'halo_m500c', 'halo_id', 'halo_halfmass_scale_factor', 'halo_upid', 'halo_t_by_u', 'halo_rvir', 'halo_vpeak', 'halo_dmvir_dt_100myr', 'halo_mpeak', 'halo_m_pe_diemer', 'halo_jx', 'halo_jy', 'halo_jz', 'halo_m2500c', 'halo_mvir', 'halo_voff', 'halo_axisA_z', 'halo_axisA_x', 'halo_axisA_y', 'halo_y', 'halo_b_to_a', 'halo_x', 'halo_z', 'halo_m200b', 'halo_vacc', 'halo_scale_factor_lastacc', 'halo_vmax', 'halo_m200c', 'halo_vx', 'halo_vy', 'halo_vz', 'halo_dmvir_dt_inst', 'halo_rs', 'halo_nfw_conc', 'halo_hostid', 'halo_mvir_host_halo'] \n",
      "\n",
      "Bolshoi particle properties: \n",
      " ['vx', 'ptcl_id', 'vy', 'y', 'x', 'vz', 'z']\n"
     ]
    }
   ],
   "source": [
    "# display all halo, particle properties available in bolshoi data\n",
    "print(\"Bolshoi halo properties: \\n\", halos.keys(), \"\\n\")\n",
    "print(\"Bolshoi particle properties: \\n\", particles.keys())"
   ]
  },
  {
   "cell_type": "code",
   "execution_count": 3,
   "metadata": {},
   "outputs": [],
   "source": [
    "halo_m200b = np.array(halos['halo_m200b']) # numpy array of 200x-background masses (halo def'n in Fermi HOD paper)\n",
    "halo_x_array = np.array(halos['halo_x']) # numpy array of halo x positions (0-250 Mpc)\n",
    "halo_y_array = np.array(halos['halo_y']) # same for y positions\n",
    "halo_z_array = np.array(halos['halo_z']) # same for z positions\n",
    "\n",
    "# N.B. will use flattened data, so only need 2 of 3 arrays at a time\n",
    "ptcl_x_array = np.array(particles['x']) # numpy array of particle x positions (0-250 Mpc)\n",
    "ptcl_y_array = np.array(particles['y']) # same for y positions\n",
    "ptcl_z_array = np.array(particles['z']) # same for y positions"
   ]
  },
  {
   "cell_type": "code",
   "execution_count": 11,
   "metadata": {},
   "outputs": [
    {
     "name": "stdout",
     "output_type": "stream",
     "text": [
      "[2.7259e+08 4.0889e+08 4.0889e+08 4.0889e+08 4.0889e+08]\n",
      "[5.6251e+14 6.1415e+14 6.7212e+14 1.0791e+15 1.2711e+15]\n",
      "1000000\n"
     ]
    }
   ],
   "source": [
    "# print 5 least/most massive halos in table\n",
    "print(np.sort(halo_m200b)[:5])\n",
    "print(np.sort(halo_m200b)[-5:])\n",
    "print(len(ptcl_x_array))"
   ]
  },
  {
   "cell_type": "code",
   "execution_count": 5,
   "metadata": {},
   "outputs": [
    {
     "name": "stdout",
     "output_type": "stream",
     "text": [
      "1000000\n",
      "1367493\n"
     ]
    }
   ],
   "source": [
    "print(len(ptcl_x_array))\n",
    "print(len(halo_m200b))"
   ]
  },
  {
   "cell_type": "code",
   "execution_count": 6,
   "metadata": {},
   "outputs": [
    {
     "name": "stdout",
     "output_type": "stream",
     "text": [
      "100\n",
      "[0.0, 0.0]\n"
     ]
    }
   ],
   "source": [
    "# create list of cylinder positions\n",
    "\n",
    "box_length = 250 # linear size of simulation in Mpc\n",
    "cyl_radius = 5.0  # cylinder radius in Mpc\n",
    "cyl_spacing = 2.5 # inter-cylinder spacing in Mpc\n",
    "\n",
    "grid_dim = int(box_length/cyl_spacing) # number of cylinders along each axis of grid\n",
    "\n",
    "cyl_centers = []\n",
    "\n",
    "# populate cyl_centers with 2-element lists of x position, y position for cylinder centers\n",
    "\n",
    "coord_array = np.linspace(0, box_length - cyl_spacing, grid_dim) # cyl center locations, both x and y\n",
    "\n",
    "for xpos in coord_array:\n",
    "    temp_row = []\n",
    "    for ypos in coord_array:\n",
    "        temp_row.append([xpos, ypos])\n",
    "    \n",
    "    cyl_centers.append(temp_row)\n",
    "\n",
    "print(grid_dim)\n",
    "print(cyl_centers[0][0])"
   ]
  },
  {
   "cell_type": "code",
   "execution_count": 7,
   "metadata": {},
   "outputs": [],
   "source": [
    "# function which calculates distance between points specified by 2-element lists acoords, bcoords\n",
    "# implements periodic boundary conditions in both x and y directions, box dimensions given by <size>\n",
    "def distance(acoords, bcoords, size):\n",
    "    x_larger = max(acoords[0], bcoords[0]) # greater of the two x coordinates\n",
    "    x_smaller = min(acoords[0], bcoords[0]) # lesser x coordinate\n",
    "    xsep_direct = x_larger - x_smaller # direct x separation (within box)\n",
    "    xsep_around = (size - x_larger) + x_smaller # around-the-corner x separation (across boundary)\n",
    "    xsep_min = min(xsep_direct, xsep_around) # use the lesser of the two x separations\n",
    "    \n",
    "    y_larger = max(acoords[1], bcoords[1]) # greater of the two y coordinates\n",
    "    y_smaller = min(acoords[1], bcoords[1]) # lesser y coordinate\n",
    "    ysep_direct = y_larger - y_smaller # direct y separation (within box)\n",
    "    ysep_around = (size - y_larger) + y_smaller # around-the-corner y separation (across boundary)\n",
    "    ysep_min = min(ysep_direct, ysep_around) # use the lesser of the two y separations\n",
    "    \n",
    "    my_dist = np.sqrt(xsep_min**2 + ysep_min**2)\n",
    "    return my_dist\n",
    "\n",
    "# function which returns True if particle is in cylinder with specified center and radius\n",
    "def in_cyl(ptcl_coords, cyl_coords, size, radius):\n",
    "    is_in_cylinder = distance(ptcl_coords, cyl_coords, size) <= radius\n",
    "    return is_in_cylinder"
   ]
  },
  {
   "cell_type": "code",
   "execution_count": 8,
   "metadata": {},
   "outputs": [
    {
     "name": "stdout",
     "output_type": "stream",
     "text": [
      "5.0\n"
     ]
    }
   ],
   "source": [
    "herbsize = 10\n",
    "herba = [np.pi, 1]\n",
    "herbb = [np.pi+3,7]\n",
    "\n",
    "herbdist = distance(herba, herbb, herbsize)\n",
    "print(herbdist)"
   ]
  },
  {
   "cell_type": "code",
   "execution_count": 9,
   "metadata": {},
   "outputs": [
    {
     "name": "stdout",
     "output_type": "stream",
     "text": [
      "Particles:\n",
      "100.0% complete\n",
      "runtime: 00:03 s\n",
      "--------------------\n",
      "Halos:\n"
     ]
    }
   ],
   "source": [
    "cyl_ptcl_counts = np.zeros([grid_dim, grid_dim]) # list to hold num of particles for each cyl\n",
    "n_ptcl = len(ptcl_x_array)\n",
    "n_run_ptcl = round(n_ptcl/10000) # for testing, only run the first n_run_ptcl particles in the list\n",
    "\n",
    "\n",
    "print(\"Particles:\")\n",
    "start_time = time.process_time()\n",
    "\n",
    "for ptcl_index in range(n_run_ptcl):\n",
    "    ptcl_coords = [ptcl_x_array[ptcl_index], ptcl_y_array[ptcl_index]] # flattening along z direction\n",
    "    \n",
    "    # calculate narrower range of cylinder indices to check, then get rid of nested loops below\n",
    "    \n",
    "    for row_index in range(len(cyl_centers)):\n",
    "        for column_index in range(len(cyl_centers)):\n",
    "            if in_cyl(ptcl_coords, cyl_centers[row_index][column_index], box_length, cyl_radius):\n",
    "                cyl_ptcl_counts[row_index][column_index] += 1\n",
    "        \n",
    "    \n",
    "    if (ptcl_index+1)%10 == 0:\n",
    "        sys.stdout.write(\"\\r\" + f\"{round((ptcl_index+1)/n_run_ptcl*100,1)}% complete\")\n",
    "        sys.stdout.flush()\n",
    "\n",
    "run_elapsed = time.process_time() - start_time\n",
    "run_mins, run_secs = divmod(run_elapsed, 60)\n",
    "run_time = '{:02d}:{:02d}'.format(round(run_mins), round(run_secs))\n",
    "print(\"\\n\" + f\"runtime: {run_time} s\")\n",
    "\n",
    "# assign galaxies to cylinders\n",
    "\n",
    "print(\"--------------------\")\n",
    "\n",
    "n_halo = len(halo_m200b)\n",
    "n_run_halo = round(n_halo/1000) # for testing, run only the first n_run_halo halos in the list\n",
    "\n",
    "halo_cen = model.mean_occupation_centrals(prim_haloprop = halo_m200b) # Zheng mean central galaxies in halo\n",
    "halo_sat = model.mean_occupation_satellites(prim_haloprop = halo_m200b) # Zheng mean satellites in halo\n",
    "halo_ngal_mean = [(halo_cen[i] + halo_sat[i]) for i in range(n_run_halo)] # mean total galaxies in halo\n",
    "halo_ngal_draws = [np.random.poisson(halo_ngal_mean[j]) for j in range(n_run_halo)] # draw galaxies for halos\n",
    "\n",
    "print(\"Halos:\")\n",
    "start_time = time.process_time()\n",
    "\n",
    "for halo_index in range(n_run_halo):\n",
    "    halo_coords = [halo_x_array[halo_index], halo_y_array[halo_index]] # flattening along z direction\n",
    "    halo_mass = halo_m200b[halo_index]\n",
    "    "
   ]
  },
  {
   "cell_type": "code",
   "execution_count": 10,
   "metadata": {},
   "outputs": [
    {
     "name": "stdout",
     "output_type": "stream",
     "text": [
      "[6.3540554, 6.538453, 4.3786974, 3.9341955, 3.423547, 3.3206635, 3.2798355, 3.1121604, 2.900698, 2.8302488]\n",
      "[3, 11, 5, 0, 3, 4, 1, 4, 1, 3]\n"
     ]
    }
   ],
   "source": [
    "print(halo_ngal_mean[0:10])\n",
    "print(halo_ngal_draws[0:10])"
   ]
  },
  {
   "cell_type": "code",
   "execution_count": 10,
   "metadata": {},
   "outputs": [
    {
     "ename": "NameError",
     "evalue": "name 'logM1_list' is not defined",
     "output_type": "error",
     "traceback": [
      "\u001b[0;31m---------------------------------------------------------------------------\u001b[0m",
      "\u001b[0;31mNameError\u001b[0m                                 Traceback (most recent call last)",
      "\u001b[0;32m<ipython-input-10-e8eb9e5c2ee7>\u001b[0m in \u001b[0;36m<module>\u001b[0;34m\u001b[0m\n\u001b[1;32m     13\u001b[0m \u001b[0;31m#plt.plot(bolshoi_m200c, mean_ncen, label='<N_cen>')\u001b[0m\u001b[0;34m\u001b[0m\u001b[0;34m\u001b[0m\u001b[0;34m\u001b[0m\u001b[0m\n\u001b[1;32m     14\u001b[0m \u001b[0;31m#plt.plot(bolshoi_m200c, mean_nsat, label='<N_sat>')\u001b[0m\u001b[0;34m\u001b[0m\u001b[0;34m\u001b[0m\u001b[0;34m\u001b[0m\u001b[0m\n\u001b[0;32m---> 15\u001b[0;31m \u001b[0mplt\u001b[0m\u001b[0;34m.\u001b[0m\u001b[0mplot\u001b[0m\u001b[0;34m(\u001b[0m\u001b[0mlogM1_list\u001b[0m\u001b[0;34m,\u001b[0m \u001b[0mlogMmin_list\u001b[0m\u001b[0;34m,\u001b[0m \u001b[0mlinewidth\u001b[0m \u001b[0;34m=\u001b[0m \u001b[0;36m4\u001b[0m\u001b[0;34m)\u001b[0m\u001b[0;34m\u001b[0m\u001b[0;34m\u001b[0m\u001b[0m\n\u001b[0m\u001b[1;32m     16\u001b[0m \u001b[0;34m\u001b[0m\u001b[0m\n\u001b[1;32m     17\u001b[0m \u001b[0mplt\u001b[0m\u001b[0;34m.\u001b[0m\u001b[0mtitle\u001b[0m\u001b[0;34m(\u001b[0m\u001b[0;34m'$N_{gal} = 0.001\\ (h^{-1}$ Mpc)$^{-3}$ iso-density curve \\n (50 points, $N_{gal}$ error = $10^{-6}$)'\u001b[0m\u001b[0;34m)\u001b[0m\u001b[0;34m\u001b[0m\u001b[0;34m\u001b[0m\u001b[0m\n",
      "\u001b[0;31mNameError\u001b[0m: name 'logM1_list' is not defined"
     ]
    },
    {
     "data": {
      "image/png": "[encoded data removed]",
      "text/plain": [
       "<Figure size 1080x1440 with 1 Axes>"
      ]
     },
     "metadata": {
      "needs_background": "light"
     },
     "output_type": "display_data"
    }
   ],
   "source": [
    "plt.rcParams.update({\n",
    "    'lines.linewidth':2.0,\n",
    "    'font.family':'serif',\n",
    "    'font.size': 24,\n",
    "    'legend.fontsize':20,\n",
    "    'legend.frameon':False})\n",
    "\n",
    "# Plot\n",
    "fig = plt.figure()\n",
    "fig.set_size_inches(15, 20)\n",
    "ax = fig.add_subplot(2, 1, 1)\n",
    "\n",
    "#plt.plot(bolshoi_m200c, mean_ncen, label='<N_cen>')\n",
    "#plt.plot(bolshoi_m200c, mean_nsat, label='<N_sat>')\n",
    "plt.plot(logM1_list, logMmin_list, linewidth = 4)\n",
    "\n",
    "plt.title('$N_{gal} = 0.001\\ (h^{-1}$ Mpc)$^{-3}$ iso-density curve \\n (50 points, $N_{gal}$ error = $10^{-6}$)')\n",
    "plt.xlabel(r'log $M_1$')\n",
    "plt.ylabel(r'log $M_{min}$')\n",
    "# ax.ticklabel_format(axis='y', style='sci', scilimits=(0,1))\n",
    "# ax.set_xscale('log')\n",
    "# ax.set_yscale('log')\n",
    "\n",
    "'''\n",
    "f = matplotlib.ticker.ScalarFormatter(useOffset=False, useMathText=True)\n",
    "g = lambda x,pos : \"${}$\".format(f._formatSciNotation('%1.1e' % x))\n",
    "plt.gca().yaxis.set_major_formatter(matplotlib.ticker.FuncFormatter(g))\n",
    "'''\n",
    "\n",
    "# plt.xlim([0.2*10**12,10**14])\n",
    "# plt.ylim([0,7])\n",
    "\n",
    "fig.patch.set_facecolor('white')\n",
    "\n",
    "'''\n",
    "lgnd = plt.legend(loc=\"upper left\", scatterpoints=1)\n",
    "lgnd.legendHandles[0]._sizes = [30]\n",
    "lgnd.legendHandles[1]._sizes = [30]\n",
    "'''\n",
    "\n",
    "plt.show()"
   ]
  },
  {
   "cell_type": "code",
   "execution_count": null,
   "metadata": {},
   "outputs": [],
   "source": []
  }
 ],
 "metadata": {
  "kernelspec": {
   "display_name": "Python 3",
   "language": "python",
   "name": "python3"
  },
  "language_info": {
   "codemirror_mode": {
    "name": "ipython",
    "version": 3
   },
   "file_extension": ".py",
   "mimetype": "text/x-python",
   "name": "python",
   "nbconvert_exporter": "python",
   "pygments_lexer": "ipython3",
   "version": "3.7.6"
  }
 },
 "nbformat": 4,
 "nbformat_minor": 2
}
